{
 "cells": [
  {
   "cell_type": "markdown",
   "id": "4ed23d10-76fc-4452-928c-92ac9d335d8b",
   "metadata": {
    "id": "4ed23d10-76fc-4452-928c-92ac9d335d8b"
   },
   "source": [
    "# Final Project: Foundation of Inference and Learning\n",
    "\n",
    "#### Reproduce the results of  *Understanding Deep Learning Requires Rethinking Generalization*"
   ]
  },
  {
   "cell_type": "code",
   "execution_count": null,
   "id": "oPI7bH2moyrE",
   "metadata": {
    "id": "oPI7bH2moyrE"
   },
   "outputs": [],
   "source": [
    "import torch\n",
    "import torch.nn as nn\n",
    "import torch.nn.functional as F\n",
    "import numpy as np\n",
    "import torchvision\n",
    "from torchvision import datasets, transforms\n",
    "from torch.utils.data import Dataset, DataLoader, RandomSampler, SequentialSampler\n",
    "import matplotlib.pyplot as plt\n",
    "from torchsummary import summary\n",
    "import time\n",
    "import random\n",
    "import os\n",
    "import warnings\n",
    "\n",
    "from models import *\n",
    "from utils import *\n",
    "\n",
    "import ssl\n",
    "ssl._create_default_https_context = ssl._create_unverified_context\n",
    "warnings.filterwarnings(\"ignore\")\n",
    "\n",
    "output_dir = \"saved_models\"\n",
    "if not os.path.isdir(output_dir):\n",
    "    os.mkdir(output_dir)"
   ]
  },
  {
   "cell_type": "markdown",
   "id": "94ef64e7-489e-4a24-b33f-088803857dbb",
   "metadata": {
    "id": "94ef64e7-489e-4a24-b33f-088803857dbb"
   },
   "source": [
    "### **Effective capacity of neural networks**"
   ]
  },
  {
   "cell_type": "markdown",
   "id": "cf560c86-3d09-4781-aea0-e47306071c86",
   "metadata": {
    "id": "cf560c86-3d09-4781-aea0-e47306071c86"
   },
   "source": [
    "#### Reproduce Fig. 1(a)"
   ]
  },
  {
   "cell_type": "code",
   "execution_count": null,
   "id": "23eab0e6-6433-4742-95a7-54e49d1a5d0b",
   "metadata": {
    "id": "23eab0e6-6433-4742-95a7-54e49d1a5d0b"
   },
   "outputs": [],
   "source": [
    "model = Inception_small()\n",
    "\n",
    "# train the Inception with various modifications on CIFAR10\n",
    "for corrupt_type in ['true labels', 'random label', 'shuffle pixels', 'random pixels', 'Gaussian']:\n",
    "    # initialize model parameters\n",
    "    random_seed(42)\n",
    "    model.__init__() \n",
    "    # generate train set using specific corruption on labels or pixels\n",
    "    cifar10_train = cifar_10_train(corrupt_type) \n",
    "    # train model\n",
    "    trainloader = torch.utils.data.DataLoader(cifar10_train, batch_size=128, shuffle=True) \n",
    "    train(model, train_dataloader=trainloader, lr=0.1, max_epoch=65, save_dir='Fig_1a-{}'.format(corrupt_type))"
   ]
  },
  {
   "cell_type": "markdown",
   "id": "591f80eb-705f-4bbf-94cf-67d01a314409",
   "metadata": {
    "id": "591f80eb-705f-4bbf-94cf-67d01a314409"
   },
   "source": [
    "#### Reproduce Fig. 2(b) and (c)"
   ]
  },
  {
   "cell_type": "code",
   "execution_count": null,
   "id": "0bcdee7f-0552-4373-8e68-e122146d2c84",
   "metadata": {
    "id": "0bcdee7f-0552-4373-8e68-e122146d2c84"
   },
   "outputs": [],
   "source": [
    "# download test set and create test loader\n",
    "transform = transforms.Compose([transforms.ToTensor(),\n",
    "                 transforms.CenterCrop((28, 28)),\n",
    "                 transforms.Lambda(lambda x: x / 255.0),\n",
    "                 transforms.Lambda(per_image_standardization)])\n",
    "cifar10_test = torchvision.datasets.CIFAR10(root='datasets', train=False, transform=transform, download=True)\n",
    "testloader = torch.utils.data.DataLoader(cifar10_test, batch_size=128, shuffle=False) \n",
    "\n",
    "# Train the three models on CIFAR10, with various level of label corruption\n",
    "\n",
    "model = Inception_small()\n",
    "for label_corrpution_p in [0, 0.1, 0.2, 0.3, 0.4, 0.5, 0.6, 0.7, 0.8, 0.9, 1.0]:\n",
    "    # initialize model parameters\n",
    "    random_seed(42)\n",
    "    model.__init__() \n",
    "    # generate train set using specific corruption on labels or pixels\n",
    "    cifar10_train = cifar_10_train('partially corrupted labels', corrupt_p=label_corrpution_p) \n",
    "    # train model\n",
    "    trainloader = torch.utils.data.DataLoader(cifar10_train, batch_size=128, shuffle=True) \n",
    "    train_val(model, train_dataloader=trainloader, test_loader = testloader, lr=0.1, max_epoch=2000, save_dir='Fig_1b-Inception_p{}'.format(str(label_corrpution_p)), early_stop=True)\n",
    "\n",
    "model = Alexnet_small()\n",
    "for label_corrpution_p in [0, 0.1, 0.2, 0.3, 0.4, 0.5, 0.6, 0.7, 0.8, 0.9, 1.0]:\n",
    "    # initialize model parameters\n",
    "    random_seed(42)\n",
    "    model.__init__() \n",
    "    # generate train set using specific corruption on labels or pixels\n",
    "    cifar10_train = cifar_10_train('partially corrupted labels', corrupt_p=label_corrpution_p) \n",
    "    # train model\n",
    "    trainloader = torch.utils.data.DataLoader(cifar10_train, batch_size=128, shuffle=True) \n",
    "    train_val(model, train_dataloader=trainloader, test_loader = testloader, lr=0.01, max_epoch=2000, save_dir='Fig_1b-Alexnet_p{}'.format(str(label_corrpution_p)), early_stop=True)\n",
    "\n",
    "model = MLP(layer=1)\n",
    "for label_corrpution_p in [0, 0.1, 0.2, 0.3, 0.4, 0.5, 0.6, 0.7, 0.8, 0.9, 1.0]:\n",
    "    # initialize model parameters\n",
    "    random_seed(42)\n",
    "    model.__init__() \n",
    "    # generate train set using specific corruption on labels or pixels\n",
    "    cifar10_train = cifar_10_train('partially corrupted labels', corrupt_p=label_corrpution_p) \n",
    "    # train model\n",
    "    trainloader = torch.utils.data.DataLoader(cifar10_train, batch_size=128, shuffle=True) \n",
    "    train_val(model, train_dataloader=trainloader, test_loader = testloader, lr=0.01, max_epoch=2000, save_dir='Fig_1b-MLP_p{}'.format(str(label_corrpution_p)), early_stop=True, min_delta=0, gamma=0.98)"
   ]
  },
  {
   "cell_type": "markdown",
   "id": "dc4f986d-3235-4866-a63e-9b6faa2db04a",
   "metadata": {
    "id": "dc4f986d-3235-4866-a63e-9b6faa2db04a"
   },
   "source": [
    "#### Plot the final results"
   ]
  },
  {
   "cell_type": "code",
   "execution_count": null,
   "id": "4a068e36-9b8d-4dc8-b095-c95333e26b2d",
   "metadata": {
    "id": "4a068e36-9b8d-4dc8-b095-c95333e26b2d"
   },
   "outputs": [],
   "source": [
    "import matplotlib.pyplot as plt\n",
    "import numpy as np \n",
    "\n",
    "plt.figure(figsize=(15, 4))\n",
    "plt.subplot(1, 3, 1)\n",
    "nb_epochs = 65\n",
    "\n",
    "corrupt_type_args = [{'corrupt type': 'true labels', 'color': 'blue', 'marker': 's'}, \n",
    "           {'corrupt type': 'random label', 'color': 'red', 'marker': 'o'},\n",
    "           {'corrupt type': 'shuffle pixels', 'color': 'lawngreen', 'marker': '*'},\n",
    "           {'corrupt type': 'random pixels', 'color': 'purple', 'marker': ''},\n",
    "           {'corrupt type': 'Gaussian', 'color': 'black', 'marker': 'D'}]\n",
    "\n",
    "for plt_info in corrupt_type_args:\n",
    "    train_stats = np.load('saved_models/Fig_1a-{}-train_stats.npy'.format(plt_info['corrupt type']), allow_pickle=True)\n",
    "    average_loss = [epoch_info['train_loss'] for epoch_info in train_stats]\n",
    "    plt.plot(range(nb_epochs), average_loss, label=plt_info['corrupt type'], color=plt_info['color'], marker=plt_info['marker'], markevery=2, linewidth=2.5, markeredgecolor='black')\n",
    "plt.legend(fontsize=15, loc='upper right')\n",
    "plt.ylabel('average_loss', fontsize=15)\n",
    "plt.xlabel('thousand steps', fontsize=15)\n",
    "plt.xticks(ticks=np.array([0, 5, 10, 15, 20, 25])/0.391, labels=[0, 5, 10, 15, 20, 25])\n",
    "plt.xlim(0, 25/0.391)\n",
    "plt.ylim(0, 2.5)\n",
    "\n",
    "# plt.figure(figsize=(12, 5))\n",
    "label_corruption = [0, 0.1, 0.2, 0.3, 0.4, 0.5, 0.6, 0.7, 0.8, 0.9, 1.0]\n",
    "\n",
    "corrupt_type_args = [{'model': 'Inception', 'color': 'black', 'marker': 's'}, \n",
    "           {'model': 'Alexnet', 'color': 'lawngreen', 'marker': 'o'},\n",
    "           {'model': 'MLP', 'color': 'blue', 'marker': '*'}]\n",
    "\n",
    "for plt_info in corrupt_type_args:\n",
    "    model_name = 'Inception' if plt_info['model']=='Inception' else 'AlexNet' if plt_info['model']=='Alexnet' else 'MLP 1x512'\n",
    "    train_time, test_error = [], []\n",
    "    for corrupt_p in label_corruption:\n",
    "        train_stats = np.load('saved_models/Fig_1b-{}_p{}-train_stats.npy'.format(plt_info['model'], str(corrupt_p)), allow_pickle=True)\n",
    "        train_time.append(train_stats[-1]['train_time'])\n",
    "        test_error.append(1-train_stats[-1]['test_acc'])\n",
    "    train_time = np.array(train_time) / train_time[0]\n",
    "    plt.subplot(1, 3, 2)\n",
    "    plt.plot(label_corruption, train_time, label=model_name, color=plt_info['color'], marker=plt_info['marker'], linewidth=3, markeredgecolor='black')\n",
    "    plt.subplot(1, 3, 3)\n",
    "    plt.plot(label_corruption, test_error, label=model_name, color=plt_info['color'], marker=plt_info['marker'], linewidth=3, markeredgecolor='black')\n",
    "\n",
    "plt.subplot(1, 3, 2)\n",
    "plt.legend(fontsize=15, loc='upper left')\n",
    "plt.ylabel('time to overfit', fontsize=15)\n",
    "plt.xlabel('label corruption', fontsize=15)\n",
    "plt.xticks(ticks=label_corruption[::2]*10, labels=label_corruption[::2])\n",
    "plt.yticks(ticks=np.arange(1.0, 5.0, 0.5), labels=np.arange(1.0, 5.0, 0.5))\n",
    "plt.xlim(0, 1)\n",
    "plt.ylim(1, 4.0)\n",
    "\n",
    "plt.subplot(1, 3, 3)\n",
    "plt.plot(label_corruption, [0.9]*len(label_corruption), linestyle='--', color='red', linewidth=3)\n",
    "plt.legend(fontsize=15, loc='bottom right')\n",
    "plt.ylabel('test_error', fontsize=15)\n",
    "plt.xlabel('label corruption', fontsize=15)\n",
    "plt.xticks(ticks=label_corruption[::2]*10, labels=label_corruption[::2])\n",
    "plt.xlim(0, 1)\n",
    "plt.ylim(0.1, 1)\n",
    "\n",
    "plt.savefig('fig_1.png', dpi=300)\n",
    "plt.show()"
   ]
  },
  {
   "cell_type": "markdown",
   "id": "7-EGC-vroSwY",
   "metadata": {
    "id": "7-EGC-vroSwY"
   },
   "source": [
    "### **Explicit regularizations**"
   ]
  },
  {
   "cell_type": "code",
   "execution_count": null,
   "id": "lrKZGvaOoVaQ",
   "metadata": {
    "id": "lrKZGvaOoVaQ"
   },
   "outputs": [],
   "source": [
    "# load test set\n",
    "transform = transforms.Compose([transforms.ToTensor(),\n",
    "                 transforms.CenterCrop((28, 28)),\n",
    "                 transforms.Lambda(lambda x: x / 255.0),\n",
    "                 transforms.Lambda(per_image_standardization)])\n",
    "cifar10_test = torchvision.datasets.CIFAR10(root='datasets', train=False, transform=transform, download=True)\n",
    "testloader = torch.utils.data.DataLoader(cifar10_test, batch_size=128, shuffle=False)"
   ]
  },
  {
   "cell_type": "code",
   "execution_count": null,
   "id": "djHtLVeSoVca",
   "metadata": {
    "id": "djHtLVeSoVca"
   },
   "outputs": [],
   "source": [
    "# train Inception model with batch normalization\n",
    "model = Inception_small(use_bn=True)\n",
    "for data_aug in ('True','False'):\n",
    "    cifar10_train = cifar_10_train('true labels', data_augmentation=data_aug) \n",
    "    trainloader = torch.utils.data.DataLoader(cifar10_train, batch_size=128, shuffle=True)\n",
    "    for wd in [0,5e-5]:\n",
    "        random_seed(42)\n",
    "        model.__init__()\n",
    "        train_val(model, train_dataloader=trainloader, test_loader = testloader, lr=0.1, max_epoch=200, early_stop=True, min_delta=1e-5, weight_decay=wd)\n"
   ]
  },
  {
   "cell_type": "code",
   "execution_count": null,
   "id": "J-wBTcdmoVfE",
   "metadata": {
    "id": "J-wBTcdmoVfE"
   },
   "outputs": [],
   "source": [
    "# train Inception model without batch normalization\n",
    "model = Inception_small(use_bn=False)\n",
    "cifar10_train = cifar_10_train('true labels', data_augmentation=False) \n",
    "trainloader = torch.utils.data.DataLoader(cifar10_train, batch_size=128, shuffle=True)\n",
    "for wd in [0,5e-5]:\n",
    "    random_seed(42)\n",
    "    model.__init__()\n",
    "    train_val(model, train_dataloader=trainloader, test_loader = testloader, lr=0.1, max_epoch=200, early_stop=True, min_delta=1e-5, weight_decay=wd)"
   ]
  },
  {
   "cell_type": "code",
   "execution_count": null,
   "id": "UBNokZVhoVhh",
   "metadata": {
    "id": "UBNokZVhoVhh"
   },
   "outputs": [],
   "source": [
    "# train Alexnet model\n",
    "model = Alexnet_small()\n",
    "for data_aug in ('True','False'):\n",
    "    cifar10_train = cifar_10_train('true labels', data_augmentation=data_aug) \n",
    "    trainloader = torch.utils.data.DataLoader(cifar10_train, batch_size=128, shuffle=True)\n",
    "    for wd in [0,5e-5]:\n",
    "        random_seed(42)\n",
    "        model.__init__()\n",
    "        train_val(model, train_dataloader=trainloader, test_loader = testloader, lr=0.01, max_epoch=200, early_stop=True, min_delta=1e-5, weight_decay=wd)"
   ]
  },
  {
   "cell_type": "code",
   "execution_count": null,
   "id": "Mp3wZDNMoVj4",
   "metadata": {
    "id": "Mp3wZDNMoVj4"
   },
   "outputs": [],
   "source": [
    "# train MLP with three hidden layers\n",
    "model = MLP(layer=3)\n",
    "cifar10_train = cifar_10_train('true labels', data_augmentation=False) \n",
    "trainloader = torch.utils.data.DataLoader(cifar10_train, batch_size=128, shuffle=True)\n",
    "for wd in [0,5e-5]:\n",
    "    random_seed(42)\n",
    "    model.__init__()\n",
    "    train_val(model, train_dataloader=trainloader, test_loader = testloader, lr=0.01, max_epoch=200, early_stop=True, min_delta=1e-5, weight_decay=wd, gamma=0.98)"
   ]
  },
  {
   "cell_type": "code",
   "execution_count": null,
   "id": "49dNtU7YoVmg",
   "metadata": {
    "id": "49dNtU7YoVmg"
   },
   "outputs": [],
   "source": [
    "# train MLP with one hidden layer\n",
    "model = MLP(layer=1)\n",
    "cifar10_train = cifar_10_train('true labels', data_augmentation=False) \n",
    "trainloader = torch.utils.data.DataLoader(cifar10_train, batch_size=128, shuffle=True)\n",
    "for wd in [0,5e-5]:\n",
    "    random_seed(42)\n",
    "    model.__init__()\n",
    "    train_val(model, train_dataloader=trainloader, test_loader = testloader, lr=0.01, max_epoch=200, early_stop=True, min_delta=1e-5, weight_decay=wd, gamma=0.98)"
   ]
  },
  {
   "cell_type": "markdown",
   "id": "DQguCNYgojFw",
   "metadata": {
    "id": "DQguCNYgojFw"
   },
   "source": [
    "#### Reproduce Table1"
   ]
  },
  {
   "cell_type": "code",
   "execution_count": null,
   "id": "SylZY9VrofuZ",
   "metadata": {
    "id": "SylZY9VrofuZ"
   },
   "outputs": [],
   "source": [
    "# load train data with random labels\n",
    "cifar10_train = cifar_10_train('random label', data_augmentation=False) \n",
    "trainloader = torch.utils.data.DataLoader(cifar10_train, batch_size=128, shuffle=True)\n",
    "model_incep_bn = Inception_small(use_bn=True)\n",
    "model_incep = Inception_small(use_bn=False)\n",
    "model_ale = Alexnet_small()\n",
    "model_mlp3 = MLP(layer=3)\n",
    "model_mlp1 = MLP(layer=1)\n",
    "\n",
    "# set random seed\n",
    "random_seed(42)\n",
    "\n",
    "# conduct the experiments to reproduce table 1 in the paper\n",
    "model_incep_bn.__init__()\n",
    "train_val(model_incep_bn, train_dataloader=trainloader, test_loader = testloader, lr=0.1, max_epoch=200, early_stop=True, min_delta=1e-5)\n",
    "model_incep.__init__()\n",
    "train_val(model_incep, train_dataloader=trainloader, test_loader = testloader, lr=0.1, max_epoch=200, early_stop=True, min_delta=1e-5)\n",
    "model_ale.__init__()\n",
    "train_val(model_ale, train_dataloader=trainloader, test_loader = testloader, lr=0.01, max_epoch=200, early_stop=True, min_delta=1e-5)\n",
    "model_mlp3.__init__()\n",
    "train_val(model_mlp3, train_dataloader=trainloader, test_loader = testloader, lr=0.01, max_epoch=200, early_stop=True, min_delta=1e-5, gamma=0.98)\n",
    "model_mlp1.__init__()\n",
    "train_val(model_mlp1, train_dataloader=trainloader, test_loader = testloader, lr=0.01, max_epoch=200, early_stop=True, min_delta=1e-5, gamma=0.98)"
   ]
  },
  {
   "cell_type": "markdown",
   "id": "WOtWT3sFooep",
   "metadata": {
    "id": "WOtWT3sFooep"
   },
   "source": [
    "### **Implicit regularizations**"
   ]
  },
  {
   "cell_type": "markdown",
   "id": "92aad023-b9dd-4d73-a38b-12095328ba3f",
   "metadata": {
    "id": "92aad023-b9dd-4d73-a38b-12095328ba3f"
   },
   "source": [
    "#### Reproduce Fig. 2(a)"
   ]
  },
  {
   "cell_type": "markdown",
   "id": "jIaUzyyuy0YL",
   "metadata": {
    "id": "jIaUzyyuy0YL"
   },
   "source": [
    "Train and Test Inception on Cifar-100 **without Data augmentation, Weight decay and Dropout**"
   ]
  },
  {
   "cell_type": "code",
   "execution_count": null,
   "id": "743d49cb-6c70-4742-aa0a-d9f10d4cb297",
   "metadata": {
    "id": "743d49cb-6c70-4742-aa0a-d9f10d4cb297"
   },
   "outputs": [],
   "source": [
    "# set random seed\n",
    "random_seed(seed=42)"
   ]
  },
  {
   "cell_type": "code",
   "execution_count": null,
   "id": "5e1448a6-a8d0-49ba-becf-7b27cacb32df",
   "metadata": {
    "id": "5e1448a6-a8d0-49ba-becf-7b27cacb32df",
    "tags": []
   },
   "outputs": [],
   "source": [
    "print('Inception with bn:')\n",
    "model = Inception_small(num_classes=100, use_bn=True)\n",
    "if torch.cuda.is_available():\n",
    "    model.cuda()\n",
    "print(summary(model, (3, 28, 28)))"
   ]
  },
  {
   "cell_type": "code",
   "execution_count": null,
   "id": "95cb92f4-d199-4d97-99bf-0d3614990c40",
   "metadata": {
    "id": "95cb92f4-d199-4d97-99bf-0d3614990c40"
   },
   "outputs": [],
   "source": [
    "train_loader, test_loader = return_loaders(root='datasets', batch_size=128, db='cifar100', augmentation=False)\n",
    "\n",
    "m1 = 'Length of iters per epoch: {}. Length of testing batches: {}.'\n",
    "print(m1.format(len(train_loader), len(test_loader)))"
   ]
  },
  {
   "cell_type": "code",
   "execution_count": null,
   "id": "04e24a51-c52f-4045-affc-94a29dfbea97",
   "metadata": {
    "id": "04e24a51-c52f-4045-affc-94a29dfbea97"
   },
   "outputs": [],
   "source": [
    "train_val(model, train_loader, test_loader, lr=0.1, max_epoch=250, save_dir='cifar100_without_aug_wd_dropout', predict_batch_bool=True)"
   ]
  },
  {
   "cell_type": "markdown",
   "id": "DARzuBVvzZbd",
   "metadata": {
    "id": "DARzuBVvzZbd"
   },
   "source": [
    "Train and Test Inception on Cifar-100 **with Data augmentation, Weight decay and Dropout**"
   ]
  },
  {
   "cell_type": "code",
   "execution_count": null,
   "id": "91584345-f63a-4093-8dee-15f61805b8ea",
   "metadata": {
    "colab": {
     "background_save": true
    },
    "id": "91584345-f63a-4093-8dee-15f61805b8ea"
   },
   "outputs": [],
   "source": [
    "# set random seed\n",
    "random_seed(seed=42)"
   ]
  },
  {
   "cell_type": "code",
   "execution_count": null,
   "id": "ff03c34f-14b6-4ad2-a679-20aa12cb23a6",
   "metadata": {
    "colab": {
     "background_save": true
    },
    "id": "ff03c34f-14b6-4ad2-a679-20aa12cb23a6"
   },
   "outputs": [],
   "source": [
    "print('Inception with bn and dropout:')\n",
    "model = Inception_small(num_classes=100, use_bn=True, dropout=0.2)\n",
    "if torch.cuda.is_available():\n",
    "    model.cuda()\n",
    "print(summary(model, (3, 28, 28)))"
   ]
  },
  {
   "cell_type": "code",
   "execution_count": null,
   "id": "192e0966-855f-48ac-b7ce-1020a0cec1b6",
   "metadata": {
    "colab": {
     "background_save": true
    },
    "id": "192e0966-855f-48ac-b7ce-1020a0cec1b6"
   },
   "outputs": [],
   "source": [
    "train_loader, test_loader = return_loaders(root='datasets', batch_size=128, db='cifar100', augmentation=True)\n",
    "\n",
    "m1 = 'Length of iters per epoch: {}. Length of testing batches: {}.'\n",
    "print(m1.format(len(train_loader), len(test_loader)))"
   ]
  },
  {
   "cell_type": "code",
   "execution_count": null,
   "id": "5a4a0ade-495b-4bf5-aefb-64c135be00b8",
   "metadata": {
    "colab": {
     "background_save": true
    },
    "id": "5a4a0ade-495b-4bf5-aefb-64c135be00b8"
   },
   "outputs": [],
   "source": [
    "train_val(model, train_loader, test_loader, lr=0.1, max_epoch=250, save_dir='cifar100_with_aug_wd_dropout', weight_decay=4e-5, predict_batch_bool=True)"
   ]
  },
  {
   "cell_type": "markdown",
   "id": "FOHJpEpBzhn8",
   "metadata": {
    "id": "FOHJpEpBzhn8"
   },
   "source": [
    "Train and Test Inception on Cifar-100 **only with Weight decay**\n",
    "\n",
    "---\n",
    "\n"
   ]
  },
  {
   "cell_type": "code",
   "execution_count": null,
   "id": "982a7d8a-3b68-45ec-982e-02e6d75c4d4a",
   "metadata": {
    "id": "982a7d8a-3b68-45ec-982e-02e6d75c4d4a"
   },
   "outputs": [],
   "source": [
    "# set random seed\n",
    "random_seed(seed=42)"
   ]
  },
  {
   "cell_type": "code",
   "execution_count": null,
   "id": "3cec7ca6-34a8-437d-b3aa-46f0cb672330",
   "metadata": {
    "id": "3cec7ca6-34a8-437d-b3aa-46f0cb672330"
   },
   "outputs": [],
   "source": [
    "print('Inception with bn')\n",
    "model = Inception_small(num_classes=100, use_bn=True)\n",
    "if torch.cuda.is_available():\n",
    "    model.cuda()\n",
    "print(summary(model, (3, 28, 28)))"
   ]
  },
  {
   "cell_type": "code",
   "execution_count": null,
   "id": "48df2bc8-85a8-4d9e-b1cb-67e44750a5e5",
   "metadata": {
    "id": "48df2bc8-85a8-4d9e-b1cb-67e44750a5e5"
   },
   "outputs": [],
   "source": [
    "train_loader, test_loader = return_loaders(root='datasets', batch_size=128, db='cifar100', augmentation=False)\n",
    "\n",
    "m1 = 'Length of iters per epoch: {}. Length of testing batches: {}.'\n",
    "print(m1.format(len(train_loader), len(test_loader)))"
   ]
  },
  {
   "cell_type": "code",
   "execution_count": null,
   "id": "e7050ac6-a03b-4a41-885e-fbe70343bc18",
   "metadata": {
    "id": "e7050ac6-a03b-4a41-885e-fbe70343bc18"
   },
   "outputs": [],
   "source": [
    "train_val(model, train_loader, test_loader, lr=0.1, max_epoch=250, save_dir='cifar100_without_aug_dropout_with_wd', weight_decay=4e-5, predict_batch_bool=True)"
   ]
  },
  {
   "cell_type": "markdown",
   "id": "WwZSDQh16ECj",
   "metadata": {
    "id": "WwZSDQh16ECj"
   },
   "source": [
    "**Plot training accuracy and testing accuracy**"
   ]
  },
  {
   "cell_type": "code",
   "execution_count": null,
   "id": "3627966f-3b71-48a9-99f9-9f8c92388de8",
   "metadata": {
    "id": "3627966f-3b71-48a9-99f9-9f8c92388de8"
   },
   "outputs": [],
   "source": [
    "# load training states\n",
    "\n",
    "cifar100_with_aug_wd_dropout_train_stats = np.load('saved_models/cifar100_with_aug_wd_dropout-train_stats.npy', allow_pickle=True)\n",
    "cifar100_with_aug_wd_dropout_train_stats_batch = np.load('saved_models/cifar100_with_aug_wd_dropout-train_stats_batch.npy', allow_pickle=True)\n",
    "\n",
    "cifar100_without_aug_dropout_with_wd_train_stats = np.load('saved_models/cifar100_without_aug_dropout_with_wd-train_stats.npy', allow_pickle=True)\n",
    "cifar100_without_aug_dropout_with_wd_train_stats_batch = np.load('saved_models/cifar100_without_aug_dropout_with_wd-train_stats_batch.npy', allow_pickle=True)\n",
    "\n",
    "cifar100_without_aug_wd_dropout_train_stats = np.load('saved_models/cifar100_without_aug_wd_dropout-train_stats.npy', allow_pickle=True)\n",
    "cifar100_without_aug_wd_dropout_train_stats_batch = np.load('saved_models/cifar100_without_aug_wd_dropout-train_stats_batch.npy', allow_pickle=True)"
   ]
  },
  {
   "cell_type": "code",
   "execution_count": null,
   "id": "66c07a54-fba7-46ff-9d2f-be6222ac9b98",
   "metadata": {
    "id": "66c07a54-fba7-46ff-9d2f-be6222ac9b98"
   },
   "outputs": [],
   "source": [
    "# load training accuracy and testing accuracy from training states\n",
    "cifar100_with_aug_wd_dropout_train_acc, cifar100_with_aug_wd_dropout_train_acc_batch, cifar100_with_aug_wd_dropout_test_acc =  get_stats(cifar100_with_aug_wd_dropout_train_stats, cifar100_with_aug_wd_dropout_train_stats_batch, max_epoch=200)\n",
    "\n",
    "cifar100_without_aug_dropout_with_wd_train_acc, cifar100_without_aug_dropout_with_wd_train_acc_batch, cifar100_without_aug_dropout_with_wd_test_acc =  get_stats(cifar100_without_aug_dropout_with_wd_train_stats, cifar100_without_aug_dropout_with_wd_train_stats_batch, max_epoch=200)\n",
    "cifar100_without_aug_wd_dropout_train_acc, cifar100_without_aug_wd_dropout_train_acc_batch, cifar100_without_aug_wd_dropout_test_acc =  get_stats(cifar100_without_aug_wd_dropout_train_stats, cifar100_without_aug_wd_dropout_train_stats_batch, max_epoch=200)"
   ]
  },
  {
   "cell_type": "code",
   "execution_count": null,
   "id": "567f112e-cacd-467f-9bb0-70888c90f158",
   "metadata": {
    "id": "567f112e-cacd-467f-9bb0-70888c90f158"
   },
   "outputs": [],
   "source": [
    "# compute the cumulative best test accuracy, as an indicator of potential performance gain of early stopping.\n",
    "cifar100_with_aug_wd_dropout_test_acc_cul = culmulative_test_acc(cifar100_with_aug_wd_dropout_test_acc)\n",
    "cifar100_without_aug_dropout_with_wd_test_acc_cul = culmulative_test_acc(cifar100_without_aug_dropout_with_wd_test_acc)\n",
    "cifar100_without_aug_wd_dropout_test_acc_cul = culmulative_test_acc(cifar100_without_aug_wd_dropout_test_acc)"
   ]
  },
  {
   "cell_type": "code",
   "execution_count": null,
   "id": "a87367eb-8290-4961-8de6-65b16ef6b4ca",
   "metadata": {
    "id": "a87367eb-8290-4961-8de6-65b16ef6b4ca"
   },
   "outputs": [],
   "source": [
    "# reproduce the fig2.a in the paper\n",
    "Epochs = np.arange(200)\n",
    "batches = np.arange(0,200*400, 100)\n",
    "\n",
    "plt.figure(figsize=(10, 8))\n",
    "plt.plot(Epochs*391/1000, cifar100_with_aug_wd_dropout_test_acc, marker='o', markevery=2, c='tab:blue', label='test(w/ aug, wd, dropout)')\n",
    "plt.plot(batches/1000, cifar100_with_aug_wd_dropout_train_acc_batch,  marker='o',  markevery=2, c='tab:blue', alpha=0.5, label='train(w/ aug, wd, dropout)')\n",
    "plt.fill_between(Epochs*391/1000, cifar100_with_aug_wd_dropout_test_acc_cul, cifar100_with_aug_wd_dropout_test_acc,\n",
    "                alpha=0.5, edgecolor='tab:blue', facecolor='tab:blue')\n",
    "\n",
    "plt.plot(Epochs*391/1000, cifar100_without_aug_dropout_with_wd_test_acc, marker='D', markevery=2, c='orangered', label='test(w/o aug, dropout)')\n",
    "plt.plot(batches/1000, cifar100_without_aug_dropout_with_wd_train_acc_batch, marker='D', markevery=2, c='orangered', alpha=0.5, label='train(w/o aug, dropout)')\n",
    "plt.fill_between(Epochs*391/1000, cifar100_without_aug_dropout_with_wd_test_acc_cul, cifar100_without_aug_dropout_with_wd_test_acc, \n",
    "                 alpha=0.5, edgecolor='orangered', facecolor='orangered')\n",
    "\n",
    "plt.plot(Epochs*391/1000, cifar100_without_aug_wd_dropout_test_acc, c='yellow', label='test(w/o aug, wd, dropout)')\n",
    "plt.plot(batches/1000, cifar100_without_aug_wd_dropout_train_acc_batch, c='yellow', alpha=0.5, label='train(w/o aug, wd, dropout)')\n",
    "plt.fill_between(Epochs*391/1000, cifar100_without_aug_wd_dropout_test_acc_cul, cifar100_without_aug_wd_dropout_test_acc, \n",
    "                 alpha=0.5, edgecolor='yellow', facecolor='orangered')\n",
    "\n",
    "y_ticks = np.arange(0, 1.05, 0.2)\n",
    "plt.ylabel('accuracy', fontsize=15)\n",
    "plt.xlabel('thousand training steps', fontsize=15)\n",
    "plt.yticks(y_ticks, fontsize=15)\n",
    "plt.grid()\n",
    "plt.legend(fontsize=15)\n",
    "plt.savefig('cifar100_plot.png', bbox_inches='tight')"
   ]
  },
  {
   "cell_type": "markdown",
   "id": "fa513812-4bfd-49af-a6d9-bad84439c547",
   "metadata": {
    "id": "fa513812-4bfd-49af-a6d9-bad84439c547"
   },
   "source": [
    "#### Reproduce Fig. 2(b)"
   ]
  },
  {
   "cell_type": "markdown",
   "id": "TfybT2v72l_8",
   "metadata": {
    "id": "TfybT2v72l_8"
   },
   "source": [
    "Train and Test Inception **with BN** on Cifar-10"
   ]
  },
  {
   "cell_type": "code",
   "execution_count": null,
   "id": "dd75a3f5-9cfa-4b7e-bdae-2016169b0fe6",
   "metadata": {
    "id": "dd75a3f5-9cfa-4b7e-bdae-2016169b0fe6"
   },
   "outputs": [],
   "source": [
    "# set random seed\n",
    "random_seed(seed=42)"
   ]
  },
  {
   "cell_type": "code",
   "execution_count": null,
   "id": "2ca3b345-fd5a-4af5-8091-56bacb28f5d3",
   "metadata": {
    "id": "2ca3b345-fd5a-4af5-8091-56bacb28f5d3"
   },
   "outputs": [],
   "source": [
    "print('Inception with bn:')\n",
    "Inception_with_bn = Inception_small(use_bn=True, init_scale=0.5)\n",
    "if torch.cuda.is_available():\n",
    "    Inception_with_bn.cuda()\n",
    "print(summary(Inception_with_bn, (3, 28, 28)))"
   ]
  },
  {
   "cell_type": "code",
   "execution_count": null,
   "id": "be73dc46-d0da-46b1-816e-13161beef51c",
   "metadata": {
    "id": "be73dc46-d0da-46b1-816e-13161beef51c"
   },
   "outputs": [],
   "source": [
    "train_loader, test_loader = return_loaders(root='datasets', batch_size=128, db='cifar', augmentation=False)\n",
    "\n",
    "m1 = 'Length of iters per epoch: {}. Length of testing batches: {}.'\n",
    "print(m1.format(len(train_loader), len(test_loader)))"
   ]
  },
  {
   "cell_type": "code",
   "execution_count": null,
   "id": "ffa4124b-3c7e-49c0-862e-eab9d559c286",
   "metadata": {
    "id": "ffa4124b-3c7e-49c0-862e-eab9d559c286"
   },
   "outputs": [],
   "source": [
    "train_val(Inception_with_bn, train_loader, test_loader, lr=0.1, max_epoch=100, save_dir='Inception_with_bn', predict_batch_bool=True)"
   ]
  },
  {
   "cell_type": "markdown",
   "id": "bPslAOK52rZA",
   "metadata": {
    "id": "bPslAOK52rZA"
   },
   "source": [
    "Train and Test Inception **without BN** on Cifar-10"
   ]
  },
  {
   "cell_type": "code",
   "execution_count": null,
   "id": "05e0070b-6c41-4112-85bf-b6193fe6a9da",
   "metadata": {
    "id": "05e0070b-6c41-4112-85bf-b6193fe6a9da"
   },
   "outputs": [],
   "source": [
    "# set random seed\n",
    "random_seed(seed=42)"
   ]
  },
  {
   "cell_type": "code",
   "execution_count": null,
   "id": "726a9884-a3f4-4126-b1f2-9c813678a58a",
   "metadata": {
    "id": "726a9884-a3f4-4126-b1f2-9c813678a58a"
   },
   "outputs": [],
   "source": [
    "print('Inception without bn:')\n",
    "Inception_without_bn = Inception_small(use_bn=False, init_scale=0.5)\n",
    "if torch.cuda.is_available():\n",
    "    Inception_without_bn.cuda()\n",
    "print(summary(Inception_without_bn, (3, 28, 28)))"
   ]
  },
  {
   "cell_type": "code",
   "execution_count": null,
   "id": "122584a0-1a41-4422-bced-cb452619a8aa",
   "metadata": {
    "id": "122584a0-1a41-4422-bced-cb452619a8aa"
   },
   "outputs": [],
   "source": [
    "train_loader, test_loader = return_loaders(root='datasets', batch_size=128, db='cifar', augmentation=False)\n",
    "\n",
    "m1 = 'Length of iters per epoch: {}. Length of testing batches: {}.'\n",
    "print(m1.format(len(train_loader), len(test_loader)))"
   ]
  },
  {
   "cell_type": "code",
   "execution_count": null,
   "id": "97a0e1e5-95cd-4f89-9f11-a7a251a0c226",
   "metadata": {
    "id": "97a0e1e5-95cd-4f89-9f11-a7a251a0c226"
   },
   "outputs": [],
   "source": [
    "train_val(Inception_without_bn, train_loader, test_loader, lr=0.1, max_epoch=100, save_dir='Inception_without_bn', predict_batch_bool=True)"
   ]
  },
  {
   "cell_type": "markdown",
   "id": "Xu7SSjcw6NF8",
   "metadata": {
    "id": "Xu7SSjcw6NF8"
   },
   "source": [
    "**Plot training accuracy and testing accuracy**"
   ]
  },
  {
   "cell_type": "code",
   "execution_count": null,
   "id": "JaMbnQHqeqWH",
   "metadata": {
    "id": "JaMbnQHqeqWH"
   },
   "outputs": [],
   "source": [
    "# load training states\n",
    "Inception_with_bn_train_stats = np.load('saved_models/Inception_with_bn-train_stats.npy', allow_pickle=True)\n",
    "Inception_with_bn_train_stats_batch = np.load('saved_models/Inception_with_bn-train_stats_batch.npy', allow_pickle=True)\n",
    "\n",
    "\n",
    "Inception_without_bn_train_stats = np.load('saved_models/Inception_without_bn-train_stats.npy', allow_pickle=True)\n",
    "Inception_without_bn_train_stats_batch = np.load('saved_models/Inception_without_bn-train_stats_batch.npy', allow_pickle=True)\n",
    "\n",
    "Inception_with_bn_train_acc, Inception_with_bn_train_acc_batch, Inception_with_bn_test_acc =  get_stats(Inception_with_bn_train_stats, Inception_with_bn_train_stats_batch, max_epoch=52)\n",
    "Inception_without_bn_train_acc, Inception_without_bn_train_acc_batch, Inception_without_bn_test_acc =  get_stats(Inception_without_bn_train_stats, Inception_without_bn_train_stats_batch, max_epoch=52)\n",
    "\n"
   ]
  },
  {
   "cell_type": "code",
   "execution_count": null,
   "id": "RleyrvzteqZC",
   "metadata": {
    "id": "RleyrvzteqZC"
   },
   "outputs": [],
   "source": [
    "# compute the cumulative best test accuracy, as an indicator of potential performance gain of early stopping.\n",
    "Inception_with_bn_test_acc_cul = culmulative_test_acc(Inception_with_bn_test_acc)\n",
    "Inception_without_bn_test_acc_cul = culmulative_test_acc(Inception_without_bn_test_acc)"
   ]
  },
  {
   "cell_type": "code",
   "execution_count": null,
   "id": "6EoPHv_Ge3Se",
   "metadata": {
    "id": "6EoPHv_Ge3Se"
   },
   "outputs": [],
   "source": [
    "# reproduce fig2.b in the paper\n",
    "Epochs = np.arange(52)\n",
    "batches = np.arange(0, 52*400, 100)\n",
    "\n",
    "plt.figure(figsize=(10, 8))\n",
    "plt.plot(Epochs*391/1000, Inception_with_bn_test_acc, marker='o', c='tab:blue', label='test(Inception)')\n",
    "plt.plot(batches/1000, Inception_with_bn_train_acc_batch,  marker='o',  c='tab:blue', alpha=0.3, label='train(Inception)')\n",
    "plt.fill_between(Epochs*391/1000, Inception_with_bn_test_acc_cul, Inception_with_bn_test_acc, \n",
    "                 Inception_with_bn_test_acc, alpha=0.5, edgecolor='tab:blue', facecolor='tab:blue')\n",
    "\n",
    "plt.plot(Epochs*391/1000, Inception_without_bn_test_acc, c='orangered', label='test(Inception w/o BN)')\n",
    "plt.plot(batches/1000, Inception_without_bn_train_acc_batch, c='orangered', alpha=0.3, label='train(Inception w/o BN)')\n",
    "plt.fill_between(Epochs*391/1000, Inception_without_bn_test_acc_cul, Inception_without_bn_test_acc, \n",
    "                 Inception_without_bn_test_acc, alpha=0.5, edgecolor='orangered', facecolor='orangered')\n",
    "\n",
    "x_ticks = np.arange(0, 25, 5)\n",
    "y_ticks = np.arange(0.6, 1.05, 0.1)\n",
    "plt.ylabel('accuracy', fontsize=15)\n",
    "plt.xlabel('thousand training steps', fontsize=15)\n",
    "plt.ylim(0.6, 1.0)\n",
    "plt.xticks(x_ticks, fontsize=15)\n",
    "plt.yticks(y_ticks, fontsize=15)\n",
    "plt.grid()\n",
    "plt.legend(fontsize=15, loc='lower right')\n",
    "plt.savefig('cifar10_plot.png', bbox_inches='tight')\n"
   ]
  },
  {
   "cell_type": "markdown",
   "id": "XuV-92QqYcAh",
   "metadata": {
    "id": "XuV-92QqYcAh"
   },
   "source": [
    "**Train and test Inception with BN and 64 batch size**\n"
   ]
  },
  {
   "cell_type": "code",
   "execution_count": null,
   "id": "-vL_XFI7Ye80",
   "metadata": {
    "id": "-vL_XFI7Ye80"
   },
   "outputs": [],
   "source": [
    "# set random seed\n",
    "random_seed(seed=42)"
   ]
  },
  {
   "cell_type": "code",
   "execution_count": null,
   "id": "KnytZMb_Ye_E",
   "metadata": {
    "id": "KnytZMb_Ye_E"
   },
   "outputs": [],
   "source": [
    "print('Inception with bn:')\n",
    "Inception_with_bn = Inception_small(use_bn=True, init_scale=0.5)\n",
    "if torch.cuda.is_available():\n",
    "    Inception_with_bn.cuda()\n",
    "print(summary(Inception_with_bn, (3, 28, 28)))"
   ]
  },
  {
   "cell_type": "code",
   "execution_count": null,
   "id": "oexqWjFDYfBM",
   "metadata": {
    "id": "oexqWjFDYfBM"
   },
   "outputs": [],
   "source": [
    "train_loader, test_loader = return_loaders(root='datasets', batch_size=64, db='cifar', augmentation=False)\n",
    "\n",
    "m1 = 'Length of iters per epoch: {}. Length of testing batches: {}.'\n",
    "print(m1.format(len(train_loader), len(test_loader)))"
   ]
  },
  {
   "cell_type": "code",
   "execution_count": null,
   "id": "ieht28XOYfDW",
   "metadata": {
    "id": "ieht28XOYfDW"
   },
   "outputs": [],
   "source": [
    "train_val(Inception_with_bn, train_loader, test_loader, lr=0.1, max_epoch=100, save_dir='Inception_with_bn_batch_size_64', weight_decay=0, record_batch=200, predict_batch_bool=True)"
   ]
  },
  {
   "cell_type": "markdown",
   "id": "bWaHnHh06Uc0",
   "metadata": {
    "id": "bWaHnHh06Uc0"
   },
   "source": [
    "Plot training accuracy and testing accuracy for Inception **with BN and different batch sizes**"
   ]
  },
  {
   "cell_type": "code",
   "execution_count": null,
   "id": "J1GsPdFJ3TWg",
   "metadata": {
    "id": "J1GsPdFJ3TWg"
   },
   "outputs": [],
   "source": [
    "# load training states of Inception with BN and 128 batch size\n",
    "Inception_with_bn_train_stats = np.load('saved_models/Inception_with_bn-train_stats.npy', allow_pickle=True) \n",
    "Inception_with_bn_train_stats_batch = np.load('saved_models/Inception_with_bn-train_stats_batch.npy', allow_pickle=True)\n",
    "\n",
    "# load training states of Inception with BN and 64 batch size\n",
    "Inception_with_bn_64_train_stats = np.load('saved_models/Inception_with_bn_batch_size_64-train_stats.npy', allow_pickle=True)\n",
    "Inception_with_bn_64_train_stats_batch = np.load('saved_models/Inception_with_bn_batch_size_64-train_stats_batch.npy', allow_pickle=True)\n",
    "\n",
    "# load training accuracy and test accuracy from the training states\n",
    "Inception_with_bn_train_acc, Inception_with_bn_train_acc_batch, Inception_with_bn_test_acc =  get_stats(Inception_with_bn_train_stats, Inception_with_bn_train_stats_batch, max_epoch=100)\n",
    "Inception_with_bn_64_train_acc, Inception_with_bn_64_train_acc_batch, Inception_with_bn_64_test_acc =  get_stats(Inception_with_bn_64_train_stats, Inception_with_bn_64_train_stats_batch, max_epoch=52)\n",
    "\n",
    "# compute the cumulative best test accuracy, as an indicator of potential performance gain of early stopping.\n",
    "Inception_with_bn_test_acc_cul = culmulative_test_acc(Inception_with_bn_test_acc)\n",
    "Inception_with_bn_64_test_acc_cul = culmulative_test_acc(Inception_with_bn_64_test_acc)\n",
    "\n",
    "# plot the training accuracy and testing accuracy of Inception with BN and different batch sizes\n",
    "Epochs_64 = np.arange(52)\n",
    "Epochs_128 = np.arange(100)\n",
    "batches_64 = np.arange(0, 52*800, 200)\n",
    "batches_128 = np.arange(0, 100*400, 100)\n",
    "\n",
    "plt.figure(figsize=(10, 8))\n",
    "plt.plot(Epochs_128*391/1000, Inception_with_bn_test_acc, marker='o', markevery=2, c='tab:blue', label='test(Inception, batch size = 128)')\n",
    "plt.plot(batches_128/1000, Inception_with_bn_train_acc_batch,  marker='o', markevery=2, c='tab:blue', alpha=0.3, label='train(Inception, batch size = 128)')\n",
    "plt.fill_between(Epochs_128*391/1000, Inception_with_bn_test_acc_cul, Inception_with_bn_test_acc, \n",
    "                 Inception_with_bn_test_acc, alpha=0.5, edgecolor='tab:blue', facecolor='tab:blue')\n",
    "\n",
    "plt.plot(Epochs_64*782/1000, Inception_with_bn_64_test_acc, c='g', label='test(Inception, batch size = 64)')\n",
    "plt.plot(batches_64/1000, Inception_with_bn_64_train_acc_batch, c='g', alpha=0.3, label='train(Inception, batch size = 64)')\n",
    "plt.fill_between(Epochs_64*782/1000, Inception_with_bn_64_test_acc_cul, Inception_with_bn_64_test_acc, \n",
    "                 Inception_with_bn_64_test_acc, alpha=0.5, edgecolor='g', facecolor='g')\n",
    "\n",
    "x_ticks = np.arange(0, 45, 5)\n",
    "y_ticks = np.arange(0.6, 1.05, 0.1)\n",
    "plt.ylabel('accuracy', fontsize=15)\n",
    "plt.xlabel('thousand training steps', fontsize=15)\n",
    "plt.ylim(0.6, 1.0)\n",
    "plt.xticks(x_ticks, fontsize=15)\n",
    "plt.yticks(y_ticks, fontsize=15)\n",
    "plt.grid()\n",
    "plt.legend(fontsize=15, loc='lower right')\n",
    "plt.savefig('cifar10_different_batch_size.png', bbox_inches='tight')"
   ]
  }
 ],
 "metadata": {
  "accelerator": "GPU",
  "colab": {
   "collapsed_sections": [],
   "machine_shape": "hm",
   "name": "Reproduce.ipynb",
   "provenance": []
  },
  "kernelspec": {
   "display_name": "Python 3",
   "language": "python",
   "name": "python3"
  },
  "language_info": {
   "codemirror_mode": {
    "name": "ipython",
    "version": 3
   },
   "file_extension": ".py",
   "mimetype": "text/x-python",
   "name": "python",
   "nbconvert_exporter": "python",
   "pygments_lexer": "ipython3",
   "version": "3.8.3"
  }
 },
 "nbformat": 4,
 "nbformat_minor": 5
}
